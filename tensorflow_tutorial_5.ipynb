{
 "cells": [
  {
   "cell_type": "markdown",
   "metadata": {},
   "source": [
    "# Train and visualize a model in Tensorflow - Part 5: Document embeddings\n",
    "\n",
    "How can you know how good your representation of data is? How well it corresponds to the true classes you are trying to predict?\n",
    "\n",
    "Tensorboard has a (very popular) embeddings tab to proyect and visualize any matrix in 2D or 3D. It also allows to add metadata and plot the points with the additional information. In this notebook we show how to load the dataset instances and labels, and store it in the expected format for Tensorboard."
   ]
  },
  {
   "cell_type": "code",
   "execution_count": null,
   "metadata": {
    "collapsed": true
   },
   "outputs": [],
   "source": [
    "import numpy as np\n",
    "import os\n",
    "import tensorflow as tf\n",
    "from tensorflow.contrib.tensorboard.plugins import projector"
   ]
  },
  {
   "cell_type": "markdown",
   "metadata": {},
   "source": [
    "First we load the dataset as before:"
   ]
  },
  {
   "cell_type": "code",
   "execution_count": null,
   "metadata": {
    "collapsed": true
   },
   "outputs": [],
   "source": [
    "newsgroups = np.load('./resources/newsgroup.npz')"
   ]
  },
  {
   "cell_type": "markdown",
   "metadata": {},
   "source": [
    "Once we have the dataset, we have to create a tensorflow Variable to be written. We use the function `tf.get_variable` specifying the name of the new variable. Why don't we use the `tf.Variable` class directly? In this case we don't have a complex graph, but for real models the `tf.get_variable` avoids name collitions and allows the program to access and reuse any variable in the graph.\n",
    "\n",
    "To give a value to the variable, we first transform the dataset into a Tensor with `tf.constant`, and then pass it as an initializer to the `tf.get_variable` function. We can't directly use the constant to log the embeddings, as the summary operations only work with variables."
   ]
  },
  {
   "cell_type": "code",
   "execution_count": null,
   "metadata": {
    "collapsed": true
   },
   "outputs": [],
   "source": [
    "tf.reset_default_graph()\n",
    "sess = tf.InteractiveSession()\n",
    "embedding_var = tf.get_variable('document_embeddings', dtype=tf.float32,\n",
    "                                initializer=tf.constant(newsgroups['train_data'], dtype=tf.float32))\n",
    "sess.run(tf.global_variables_initializer())"
   ]
  },
  {
   "cell_type": "markdown",
   "metadata": {},
   "source": [
    "In the next cell we write the labels as metadata for the embedding points. The metadata has to be stored in a .tsv file that can have multiple columns. In our case, we only have the label to store, so we create a file with a single value per row."
   ]
  },
  {
   "cell_type": "code",
   "execution_count": null,
   "metadata": {
    "collapsed": true
   },
   "outputs": [],
   "source": [
    "# Add the metadata\n",
    "embeddings_dir = os.path.join('20news_mlp_summaries', 'embeddings')\n",
    "try:\n",
    "    os.makedirs(embeddings_dir)\n",
    "except FileExistsError:\n",
    "    pass\n",
    "metadata_filename = os.path.join(embeddings_dir, 'metadata.tsv')\n",
    "with open(metadata_filename, 'w') as f:\n",
    "    for label in newsgroups['train_target']:\n",
    "        f.write(str(label) + '\\n')"
   ]
  },
  {
   "cell_type": "markdown",
   "metadata": {},
   "source": [
    "The last thing to do is to write the embeddings with a `tf.summary.FileWriter` instance and add the metadata to the embedding proyector. It is important to use a different directory, as this operation will rewrite the model graph."
   ]
  },
  {
   "cell_type": "code",
   "execution_count": null,
   "metadata": {
    "collapsed": true
   },
   "outputs": [],
   "source": [
    "summary_writer = tf.summary.FileWriter(embeddings_dir, sess.graph)\n",
    "config = projector.ProjectorConfig()\n",
    "embedding_conf = config.embeddings.add()\n",
    "embedding_conf.tensor_name = embedding_var.name\n",
    "embedding_conf.metadata_path = metadata_filename\n",
    "projector.visualize_embeddings(summary_writer, config)\n",
    "\n",
    "# save the model\n",
    "saver = tf.train.Saver()\n",
    "saver.save(sess, os.path.join(embeddings_dir, 'embedding_model.ckpt'))"
   ]
  },
  {
   "cell_type": "code",
   "execution_count": null,
   "metadata": {
    "collapsed": true
   },
   "outputs": [],
   "source": []
  }
 ],
 "metadata": {
  "kernelspec": {
   "display_name": "Python 3",
   "language": "python",
   "name": "python3"
  },
  "language_info": {
   "codemirror_mode": {
    "name": "ipython",
    "version": 3
   },
   "file_extension": ".py",
   "mimetype": "text/x-python",
   "name": "python",
   "nbconvert_exporter": "python",
   "pygments_lexer": "ipython3",
   "version": "3.6.2"
  }
 },
 "nbformat": 4,
 "nbformat_minor": 2
}
