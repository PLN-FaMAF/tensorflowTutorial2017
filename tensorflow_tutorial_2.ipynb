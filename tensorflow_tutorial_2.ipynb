{
 "cells": [
  {
   "cell_type": "markdown",
   "metadata": {},
   "source": [
    "# Train and visualize a model in Tensorflow - Part 2: The Basics of Tensorflow\n",
    "\n",
    "This notebook will explain the basics to create a linear model with Tensorflow. This part uses the 20 newsgroup dataset obtained in the previous part of the tutorial. Remember the dataset, comprised of documents, was converted to a matrix of document embeddings and splitted into train and test datasets."
   ]
  },
  {
   "cell_type": "code",
   "execution_count": 1,
   "metadata": {
    "collapsed": true
   },
   "outputs": [],
   "source": [
    "import numpy as np\n",
    "import tensorflow as tf"
   ]
  },
  {
   "cell_type": "markdown",
   "metadata": {},
   "source": [
    "## Data management\n",
    "\n",
    "Before creating the model, we need to specify what the input and output is going to be. For that we use the document matrix obtained in the previous part as input to the the classifier.\n",
    "\n",
    "However, most optimization algorithms similar to Stochastic Gradient Descent need the data in small portions for optimization purposes. On top of that, the training cycle goes through the entire dataset several times (epochs) before converging to a good solution.\n",
    "\n",
    "Fortunately, Tensorflow has the solution to iterate over datasets several times in small batches. These function are called input functions, and they can take a numpy array or a pandas dataframe. It's worth noticing that, during the past updates, Tensorflow has been including more functions to transform the input data in batches handling enconding of categorical features, embeddings, etc, althoug we wont use those function here.\n",
    "\n",
    "We load our dataset and create the input function to handle it with the following code:"
   ]
  },
  {
   "cell_type": "code",
   "execution_count": 2,
   "metadata": {
    "collapsed": true
   },
   "outputs": [],
   "source": [
    "# Load the dataset into a numpy keyed structure\n",
    "newsgroups = np.load('./resources/newsgroup.npz')\n",
    "\n",
    "# Define the batch size and the number of labels\n",
    "batch_size = 100\n",
    "num_classes = newsgroups['labels'].shape[0]\n",
    "\n",
    "def dataset_input_fn(dataset):\n",
    "    \"\"\"\n",
    "    Creates an input function using the `numpy_input_fn` method from\n",
    "    tensorflow, based on the dataset we want to use.\n",
    "    \n",
    "    Args:\n",
    "        dataset: String that represents the dataset (should be `train` or `test`)\n",
    "    \n",
    "    Returns:\n",
    "        An `numpy_input_fn` function to feed to an estimator\n",
    "    \"\"\"\n",
    "    assert dataset in ('train', 'test'), \"The selected dataset should be `train` or `test`\"\n",
    "    \n",
    "    return tf.estimator.inputs.numpy_input_fn(\n",
    "        # A dictionary of numpy arrays that match each array with the corresponding column in the model.\n",
    "        # For this case we only have \"one\" colum which represents all the dimensions in the embeddings.\n",
    "        x={'input_data': newsgroups['%s_data' % dataset]},\n",
    "        # The target array\n",
    "        y=newsgroups['%s_target' % dataset],\n",
    "        # The batch size to iterate the data in small fractions\n",
    "        batch_size=batch_size,\n",
    "        # If the dataset is `test` only run once\n",
    "        num_epochs=1 if dataset == 'test' else None,\n",
    "        # Only shuffle the dataset for the `train` data\n",
    "        shuffle=dataset == 'train'\n",
    "    )"
   ]
  },
  {
   "cell_type": "markdown",
   "metadata": {},
   "source": [
    "## Defining the model\n",
    "\n",
    "The classifier to train is a `tf.estimator.LinearClassifier` which is basically a wrapper in Tensorflow for a Logistic Regression classifier. \n",
    "\n",
    "The object instantiation takes as input an iterator (i.e. `feature_columns`) that match the dictionary fed to the input function. As the input function only takes one column with a number of dimensions equal to the number of dimensions in the embeddings, there is only one feature column of that number of dimensions."
   ]
  },
  {
   "cell_type": "code",
   "execution_count": 3,
   "metadata": {},
   "outputs": [
    {
     "name": "stdout",
     "output_type": "stream",
     "text": [
      "INFO:tensorflow:Using default config.\n",
      "WARNING:tensorflow:Using temporary folder as model directory: /tmp/tmprrqmkyhl\n",
      "INFO:tensorflow:Using config: {'_save_checkpoints_steps': None, '_keep_checkpoint_max': 5, '_num_ps_replicas': 0, '_save_checkpoints_secs': 600, '_tf_random_seed': None, '_task_id': 0, '_num_worker_replicas': 1, '_task_type': 'worker', '_master': '', '_model_dir': '/tmp/tmprrqmkyhl', '_session_config': None, '_is_chief': True, '_service': None, '_save_summary_steps': 100, '_keep_checkpoint_every_n_hours': 10000, '_log_step_count_steps': 100, '_cluster_spec': <tensorflow.python.training.server_lib.ClusterSpec object at 0x7f30fef30080>}\n"
     ]
    }
   ],
   "source": [
    "embedding_size = newsgroups['train_data'].shape[1]\n",
    "\n",
    "feature_columns = [tf.feature_column.numeric_column('input_data', shape=(embedding_size,))]\n",
    "\n",
    "linear_classifier = tf.estimator.LinearClassifier(feature_columns=feature_columns, n_classes=num_classes)"
   ]
  },
  {
   "cell_type": "markdown",
   "metadata": {},
   "source": [
    "## Training cicle\n",
    "\n",
    "Now that we have the function that build the model, we can create the training cycle."
   ]
  },
  {
   "cell_type": "code",
   "execution_count": 4,
   "metadata": {
    "scrolled": false
   },
   "outputs": [
    {
     "name": "stdout",
     "output_type": "stream",
     "text": [
      "INFO:tensorflow:Create CheckpointSaverHook.\n",
      "INFO:tensorflow:Saving checkpoints for 1 into /tmp/tmprrqmkyhl/model.ckpt.\n",
      "INFO:tensorflow:step = 1, loss = 299.573\n",
      "INFO:tensorflow:global_step/sec: 511.301\n",
      "INFO:tensorflow:step = 101, loss = 87.8829 (0.197 sec)\n",
      "INFO:tensorflow:global_step/sec: 621.427\n",
      "INFO:tensorflow:step = 201, loss = 104.938 (0.161 sec)\n",
      "INFO:tensorflow:global_step/sec: 678.725\n",
      "INFO:tensorflow:step = 301, loss = 91.5199 (0.147 sec)\n",
      "INFO:tensorflow:global_step/sec: 649.765\n",
      "INFO:tensorflow:step = 401, loss = 67.8664 (0.154 sec)\n",
      "INFO:tensorflow:global_step/sec: 673.782\n",
      "INFO:tensorflow:step = 501, loss = 53.9578 (0.148 sec)\n",
      "INFO:tensorflow:global_step/sec: 650.838\n",
      "INFO:tensorflow:step = 601, loss = 68.7622 (0.154 sec)\n",
      "INFO:tensorflow:global_step/sec: 698.783\n",
      "INFO:tensorflow:step = 701, loss = 61.8966 (0.143 sec)\n",
      "INFO:tensorflow:global_step/sec: 718.016\n",
      "INFO:tensorflow:step = 801, loss = 70.681 (0.139 sec)\n",
      "INFO:tensorflow:global_step/sec: 691.578\n",
      "INFO:tensorflow:step = 901, loss = 60.8437 (0.144 sec)\n",
      "INFO:tensorflow:global_step/sec: 706.807\n",
      "INFO:tensorflow:step = 1001, loss = 62.2434 (0.141 sec)\n",
      "INFO:tensorflow:global_step/sec: 698.309\n",
      "INFO:tensorflow:step = 1101, loss = 48.8926 (0.143 sec)\n",
      "INFO:tensorflow:global_step/sec: 687.981\n",
      "INFO:tensorflow:step = 1201, loss = 89.3121 (0.145 sec)\n",
      "INFO:tensorflow:global_step/sec: 681.166\n",
      "INFO:tensorflow:step = 1301, loss = 60.8137 (0.147 sec)\n",
      "INFO:tensorflow:global_step/sec: 708.754\n",
      "INFO:tensorflow:step = 1401, loss = 70.3394 (0.141 sec)\n",
      "INFO:tensorflow:global_step/sec: 642.805\n",
      "INFO:tensorflow:step = 1501, loss = 74.9079 (0.156 sec)\n",
      "INFO:tensorflow:global_step/sec: 699.277\n",
      "INFO:tensorflow:step = 1601, loss = 54.197 (0.143 sec)\n",
      "INFO:tensorflow:global_step/sec: 719.852\n",
      "INFO:tensorflow:step = 1701, loss = 47.2254 (0.139 sec)\n",
      "INFO:tensorflow:global_step/sec: 690.622\n",
      "INFO:tensorflow:step = 1801, loss = 51.6068 (0.145 sec)\n",
      "INFO:tensorflow:global_step/sec: 658.888\n",
      "INFO:tensorflow:step = 1901, loss = 76.0412 (0.152 sec)\n",
      "INFO:tensorflow:Saving checkpoints for 2000 into /tmp/tmprrqmkyhl/model.ckpt.\n",
      "INFO:tensorflow:Loss for final step: 55.2219.\n"
     ]
    },
    {
     "data": {
      "text/plain": [
       "<tensorflow.python.estimator.canned.linear.LinearClassifier at 0x7f30c4554550>"
      ]
     },
     "execution_count": 4,
     "metadata": {},
     "output_type": "execute_result"
    }
   ],
   "source": [
    "linear_classifier.train(input_fn=dataset_input_fn(\"train\"), steps=2000)"
   ]
  },
  {
   "cell_type": "markdown",
   "metadata": {},
   "source": [
    "## Evaluation\n",
    "\n",
    "As seen before, it is also quite easy to get the evaluation metrics defined in the model after traning:"
   ]
  },
  {
   "cell_type": "code",
   "execution_count": 5,
   "metadata": {},
   "outputs": [
    {
     "name": "stdout",
     "output_type": "stream",
     "text": [
      "INFO:tensorflow:Starting evaluation at 2017-11-15-13:53:04\n",
      "INFO:tensorflow:Restoring parameters from /tmp/tmprrqmkyhl/model.ckpt-2000\n",
      "INFO:tensorflow:Finished evaluation at 2017-11-15-13:53:05\n",
      "INFO:tensorflow:Saving dict for global step 2000: accuracy = 0.759426, average_loss = 0.75266, global_step = 2000, loss = 74.5926\n",
      "{'global_step': 2000, 'accuracy': 0.75942647, 'average_loss': 0.75266039, 'loss': 74.592606}\n"
     ]
    }
   ],
   "source": [
    "# Evaluate the model and print results\n",
    "eval_results = linear_classifier.evaluate(input_fn=dataset_input_fn(\"test\"))\n",
    "print(eval_results)"
   ]
  }
 ],
 "metadata": {
  "kernelspec": {
   "display_name": "Python [conda env:keras]",
   "language": "python",
   "name": "conda-env-keras-py"
  },
  "language_info": {
   "codemirror_mode": {
    "name": "ipython",
    "version": 3
   },
   "file_extension": ".py",
   "mimetype": "text/x-python",
   "name": "python",
   "nbconvert_exporter": "python",
   "pygments_lexer": "ipython3",
   "version": "3.5.4"
  }
 },
 "nbformat": 4,
 "nbformat_minor": 2
}
