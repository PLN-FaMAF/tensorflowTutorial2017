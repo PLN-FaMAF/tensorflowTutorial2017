{
 "cells": [
  {
   "cell_type": "markdown",
   "metadata": {},
   "source": [
    "# Train and visualize a model in Tensorflow - Part 3: Advanced Tensorflow\n",
    "\n",
    "Now that we've trained a linear model from the dataset with an estimator already implemented by Tensorflow, it's time to have some more complexity using a neural network. This part of the tutorial covers how create a tensorflow custom estimator to use as a multilayer perceptron."
   ]
  },
  {
   "cell_type": "code",
   "execution_count": 2,
   "metadata": {
    "collapsed": true
   },
   "outputs": [],
   "source": [
    "import numpy as np\n",
    "import tensorflow as tf"
   ]
  },
  {
   "cell_type": "markdown",
   "metadata": {},
   "source": [
    "## Data loading\n",
    "\n",
    "Like in the previous part, we need to load the 20 newsgroups dataset and define the input functions to feed the estimator."
   ]
  },
  {
   "cell_type": "code",
   "execution_count": 3,
   "metadata": {},
   "outputs": [],
   "source": [
    "# Load the dataset into a numpy keyed structure\n",
    "newsgroups = np.load('./resources/newsgroup.npz')\n",
    "\n",
    "# Define the batch size and the number of labels\n",
    "batch_size = 100\n",
    "num_classes = newsgroups['labels'].shape[0]\n",
    "\n",
    "def dataset_input_fn(dataset):\n",
    "    \"\"\"\n",
    "    Creates an input function using the `numpy_input_fn` method from\n",
    "    tensorflow, based on the dataset we want to use.\n",
    "    \n",
    "    Args:\n",
    "        dataset: String that represents the dataset (should be `train` or `test`)\n",
    "    \n",
    "    Returns:\n",
    "        An `numpy_input_fn` function to feed to an estimator\n",
    "    \"\"\"\n",
    "    assert dataset in ('train', 'test'), \"The selected dataset should be `train` or `test`\"\n",
    "    \n",
    "    return tf.estimator.inputs.numpy_input_fn(\n",
    "        x={'input_data': newsgroups['%s_data' % dataset]},\n",
    "        y=newsgroups['%s_target' % dataset],\n",
    "        batch_size=batch_size,\n",
    "        num_epochs=1 if dataset == 'test' else None,\n",
    "        shuffle=dataset == 'train'\n",
    "    )"
   ]
  },
  {
   "cell_type": "markdown",
   "metadata": {},
   "source": [
    "# Buiding the MLP model\n",
    "\n",
    "Now the dataset has been processed, we can build the MLP model using the `tf.estimator` and `tf.layers` modules. Layers provide a level of abstraction over the raw operations between tensors. You can add easily regularization parameters, dropout layers, change the activation function, etc. The Estimator model, on the other hand, is a simple way of stacking the layers together. It also helps to divide the training, evaluation and prediction operations using the same model.\n",
    "\n",
    "However, even if these modules use a higher level abstraction, they still allow for a full customization and access to the low level variables.\n",
    "\n",
    "## The model architecture\n",
    "\n",
    "Now we can start creating and connecting the layers of the model in the correct order. The input for this function is one batch of the matrix with the representation of the data, created by the function `train_input_fn` defined above.\n",
    "\n",
    "For simplicity we will add now all the layers before the activation function of the last layer. The following model has two hidden layers, followed by a dropout layer and finally the output layer. The `tf.layers.dense` function needs to get as parameters the output of the previous layer and the size of the new output (units). It alse allows us to set several parameters for the layer, like the regularization, activation, etc."
   ]
  },
  {
   "cell_type": "code",
   "execution_count": 4,
   "metadata": {
    "collapsed": true
   },
   "outputs": [],
   "source": [
    "def build_model(input_data, mode):\n",
    "    \"\"\"Creates the model layers.\n",
    "    \n",
    "    Args:\n",
    "        input_data: a Tensor with shape [batch_size, feature_size]\n",
    "    \n",
    "    Returns:\n",
    "        The logits of the output layer.\"\"\"\n",
    "    # Dense Layer #1\n",
    "    # Input Tensor Shape: [batch_size, embedding_size]\n",
    "    # Output Tensor Shape: [batch_size, hidden_layer_size_1]\n",
    "    hidden1 = tf.layers.dense(\n",
    "        inputs=input_data,\n",
    "        units=250,\n",
    "        activation=tf.nn.relu,\n",
    "        name='hidden_layer_1'\n",
    "    )\n",
    "\n",
    "    # Dense Layer #2\n",
    "    # Input Tensor Shape: [batch_size, hidden_layer_size_1]\n",
    "    # Output Tensor Shape: [batch_size, hidden_layer_size_2]\n",
    "    hidden2 = tf.layers.dense(\n",
    "        inputs=hidden1,\n",
    "        units=100,\n",
    "        activation=tf.nn.relu,\n",
    "        name='hidden_layer_2'\n",
    "    )\n",
    "\n",
    "    # Add dropout operation; 0.6 probability that element will be kept\n",
    "    # The dropout only is applied when the model is training. For prediction\n",
    "    # and evaluation, the whole input is used.\n",
    "    dropout = tf.layers.dropout(\n",
    "        inputs=hidden2, rate=0.4, training=(mode == tf.estimator.ModeKeys.TRAIN))\n",
    "\n",
    "    # Logits layer. No activation\n",
    "    # Input Tensor Shape: [batch_size, 1024]\n",
    "    # Output Tensor Shape: [batch_size, num_classes]\n",
    "    logits = tf.layers.dense(inputs=dropout, units=num_classes)\n",
    "\n",
    "    return (logits)"
   ]
  },
  {
   "cell_type": "markdown",
   "metadata": {},
   "source": [
    "## The structure of an Estimator\n",
    "\n",
    "So far we have defined the layers of our model, but we still need to connect the input data, add the prediction, loss and optimization function. All these is defined into a a function `model_fn` that will create the complete model. Then, this function is passed to the `tf.estimator.Estimator` object, which is just a wrapper that uses the model for training or prediction.\n",
    "\n",
    "The `model_fn` function must return a different `tf.estimator.EstimatorSpec` instance for each possible mode: TRAIN, EVAL and PREDICT. Note that for each mode, the behaviour of the model is different:\n",
    "  * TRAIN: the model uses the input to generate a prediction of labels, then it takes the given prediction and the true labels to calculate the loss function. The optimizer algorithm uses minimizes the loss with a backward pass updating all the model parameters.\n",
    "  * EVAL: the model uses the input to generate a prediction of labels, then it takes the given prediction to calculate some evaluation metrics.\n",
    "  * PREDICT: the model uses the input to generate a prediction of labels and returns them as result.\n",
    "\n",
    "We use the `EstimatorSpec` to enclose all those operations for the `Estimator` object to run them through its methods `train()`, `evaluate()` and `predict()`.\n",
    "\n",
    "Note that the `model_fn` function must have the parameters `features`, `labels` and `mode`."
   ]
  },
  {
   "cell_type": "code",
   "execution_count": 9,
   "metadata": {
    "collapsed": true
   },
   "outputs": [],
   "source": [
    "def mlp_model_fn(features, labels, mode):\n",
    "    \"\"\"Model function for MLP.\n",
    "    \n",
    "    Args:\n",
    "        features: a dictionary where the values are input tensors with shape\n",
    "            [batch_size, feature_size]\n",
    "        labels: a tensor with shape [batch_size]\n",
    "        mode: a constant, one of `tf.estimator.ModeKeys.`\n",
    "    \n",
    "    Returns:\n",
    "        An instance of ´tf.estimator.EstimatorSpec´.\n",
    "    \"\"\"\n",
    "    logits = build_model(features['input_data'], mode)\n",
    "\n",
    "    predictions = {\n",
    "        # Generate predictions (for PREDICT and EVAL mode)\n",
    "        'classes': tf.argmax(input=logits, axis=1),\n",
    "        # Add `softmax_tensor` to the graph. It is used for PREDICT.\n",
    "        'probabilities': tf.nn.softmax(logits, name='softmax_tensor')\n",
    "    }\n",
    "    if mode == tf.estimator.ModeKeys.PREDICT:\n",
    "        return tf.estimator.EstimatorSpec(mode=mode, predictions=predictions)\n",
    "\n",
    "    # Calculate Loss (for both TRAIN and EVAL modes)\n",
    "    onehot_labels = tf.one_hot(indices=tf.cast(labels, tf.int32), depth=num_classes)\n",
    "    loss = tf.losses.softmax_cross_entropy(\n",
    "      onehot_labels=onehot_labels, logits=logits)\n",
    "\n",
    "    # Configure the Training Op (for TRAIN mode)\n",
    "    if mode == tf.estimator.ModeKeys.TRAIN:\n",
    "        optimizer = tf.train.GradientDescentOptimizer(learning_rate=0.001)\n",
    "        train_op = optimizer.minimize(\n",
    "            loss=loss,\n",
    "            global_step=tf.train.get_global_step())\n",
    "        return tf.estimator.EstimatorSpec(mode=mode, loss=loss, train_op=train_op)\n",
    "\n",
    "    # Add evaluation metrics (for EVAL mode)\n",
    "    eval_metric_ops = {\n",
    "        'accuracy': tf.metrics.accuracy(labels=labels, predictions=predictions['classes'])\n",
    "    }\n",
    "    return tf.estimator.EstimatorSpec(\n",
    "        mode=mode, loss=loss, eval_metric_ops=eval_metric_ops)"
   ]
  },
  {
   "cell_type": "markdown",
   "metadata": {},
   "source": [
    "## Training cicle\n",
    "\n",
    "Now that we have the function that build the model, we can create the training cycle."
   ]
  },
  {
   "cell_type": "code",
   "execution_count": 10,
   "metadata": {
    "scrolled": false
   },
   "outputs": [
    {
     "name": "stdout",
     "output_type": "stream",
     "text": [
      "INFO:tensorflow:Using default config.\n",
      "INFO:tensorflow:Using config: {'_master': '', '_keep_checkpoint_max': 5, '_save_summary_steps': 100, '_save_checkpoints_secs': 600, '_task_id': 0, '_keep_checkpoint_every_n_hours': 10000, '_num_ps_replicas': 0, '_session_config': None, '_is_chief': True, '_service': None, '_cluster_spec': <tensorflow.python.training.server_lib.ClusterSpec object at 0x7f39005e3fd0>, '_tf_random_seed': None, '_log_step_count_steps': 100, '_num_worker_replicas': 1, '_model_dir': '20news_mlp_model', '_save_checkpoints_steps': None, '_task_type': 'worker'}\n",
      "INFO:tensorflow:Create CheckpointSaverHook.\n",
      "INFO:tensorflow:Restoring parameters from 20news_mlp_model/model.ckpt-2000\n",
      "INFO:tensorflow:Saving checkpoints for 2001 into 20news_mlp_model/model.ckpt.\n",
      "INFO:tensorflow:loss = 0.559558153152, step = 2001\n",
      "INFO:tensorflow:global_step/sec: 247.88\n",
      "INFO:tensorflow:loss = 0.562915921211, step = 2101 (0.404 sec)\n",
      "INFO:tensorflow:global_step/sec: 275.519\n",
      "INFO:tensorflow:loss = 0.54228836298, step = 2201 (0.363 sec)\n",
      "INFO:tensorflow:global_step/sec: 281.134\n",
      "INFO:tensorflow:loss = 0.644038319588, step = 2301 (0.356 sec)\n",
      "INFO:tensorflow:global_step/sec: 280.592\n",
      "INFO:tensorflow:loss = 0.532621085644, step = 2401 (0.356 sec)\n",
      "INFO:tensorflow:global_step/sec: 276.813\n",
      "INFO:tensorflow:loss = 0.666455447674, step = 2501 (0.361 sec)\n",
      "INFO:tensorflow:global_step/sec: 273.65\n",
      "INFO:tensorflow:loss = 0.445739746094, step = 2601 (0.365 sec)\n",
      "INFO:tensorflow:global_step/sec: 253.088\n",
      "INFO:tensorflow:loss = 0.41692635417, step = 2701 (0.395 sec)\n",
      "INFO:tensorflow:global_step/sec: 280.394\n",
      "INFO:tensorflow:loss = 0.434546589851, step = 2801 (0.357 sec)\n",
      "INFO:tensorflow:global_step/sec: 250.965\n",
      "INFO:tensorflow:loss = 0.478281408548, step = 2901 (0.398 sec)\n",
      "INFO:tensorflow:global_step/sec: 249.081\n",
      "INFO:tensorflow:loss = 0.573309957981, step = 3001 (0.402 sec)\n",
      "INFO:tensorflow:global_step/sec: 254.437\n",
      "INFO:tensorflow:loss = 0.520650267601, step = 3101 (0.393 sec)\n",
      "INFO:tensorflow:global_step/sec: 274.937\n",
      "INFO:tensorflow:loss = 0.558159947395, step = 3201 (0.364 sec)\n",
      "INFO:tensorflow:global_step/sec: 247.618\n",
      "INFO:tensorflow:loss = 0.515326142311, step = 3301 (0.404 sec)\n",
      "INFO:tensorflow:global_step/sec: 261.998\n",
      "INFO:tensorflow:loss = 0.612252533436, step = 3401 (0.382 sec)\n",
      "INFO:tensorflow:global_step/sec: 249.859\n",
      "INFO:tensorflow:loss = 0.498306661844, step = 3501 (0.400 sec)\n",
      "INFO:tensorflow:global_step/sec: 249.975\n",
      "INFO:tensorflow:loss = 0.511618196964, step = 3601 (0.400 sec)\n",
      "INFO:tensorflow:global_step/sec: 277.659\n",
      "INFO:tensorflow:loss = 0.491873502731, step = 3701 (0.360 sec)\n",
      "INFO:tensorflow:global_step/sec: 274.351\n",
      "INFO:tensorflow:loss = 0.51376336813, step = 3801 (0.365 sec)\n",
      "INFO:tensorflow:global_step/sec: 253.531\n",
      "INFO:tensorflow:loss = 0.562381088734, step = 3901 (0.394 sec)\n",
      "INFO:tensorflow:Saving checkpoints for 4000 into 20news_mlp_model/model.ckpt.\n",
      "INFO:tensorflow:Loss for final step: 0.606485903263.\n"
     ]
    },
    {
     "data": {
      "text/plain": [
       "<tensorflow.python.estimator.estimator.Estimator at 0x7f3900637320>"
      ]
     },
     "execution_count": 10,
     "metadata": {},
     "output_type": "execute_result"
    }
   ],
   "source": [
    "# Create the Estimator\n",
    "mlp_classifier = tf.estimator.Estimator(\n",
    "    model_fn=mlp_model_fn, model_dir=\"20news_mlp_model\")\n",
    "\n",
    "# Train the model\n",
    "mlp_classifier.train(\n",
    "    input_fn=dataset_input_fn('train'),\n",
    "    steps=2000,\n",
    ")"
   ]
  },
  {
   "cell_type": "markdown",
   "metadata": {},
   "source": [
    "## Evaluation\n",
    "\n",
    "As seen before, it is also quite easy to get the evaluation metrics defined in the model after traning:"
   ]
  },
  {
   "cell_type": "code",
   "execution_count": 11,
   "metadata": {},
   "outputs": [
    {
     "name": "stdout",
     "output_type": "stream",
     "text": [
      "INFO:tensorflow:Starting evaluation at 2017-11-14-18:23:33\n",
      "INFO:tensorflow:Restoring parameters from 20news_mlp_model/model.ckpt-4000\n",
      "INFO:tensorflow:Finished evaluation at 2017-11-14-18:23:33\n",
      "INFO:tensorflow:Saving dict for global step 4000: accuracy = 0.780669, global_step = 4000, loss = 0.689743\n",
      "{'accuracy': 0.78066915, 'loss': 0.68974322, 'global_step': 4000}\n"
     ]
    }
   ],
   "source": [
    "eval_results = mlp_classifier.evaluate(input_fn=dataset_input_fn('test'))\n",
    "print(eval_results)"
   ]
  },
  {
   "cell_type": "markdown",
   "metadata": {},
   "source": [
    "Note that, if we keep the same `model_dir`, the model will be read from disk before each train and evaluate call, allowing us to stop and restart the training at different points."
   ]
  },
  {
   "cell_type": "markdown",
   "metadata": {},
   "source": [
    "# Activity\n",
    "\n",
    "Continue training the same model with different optimizers and learning rates, and compare how the loss changes. What happens if we train the classifier first with SGD and then with the Adam optimizer? And what about the other way around?"
   ]
  },
  {
   "cell_type": "code",
   "execution_count": null,
   "metadata": {
    "collapsed": true
   },
   "outputs": [],
   "source": []
  }
 ],
 "metadata": {
  "kernelspec": {
   "display_name": "Python [conda env:keras]",
   "language": "python",
   "name": "conda-env-keras-py"
  },
  "language_info": {
   "codemirror_mode": {
    "name": "ipython",
    "version": 3
   },
   "file_extension": ".py",
   "mimetype": "text/x-python",
   "name": "python",
   "nbconvert_exporter": "python",
   "pygments_lexer": "ipython3",
   "version": "3.5.4"
  }
 },
 "nbformat": 4,
 "nbformat_minor": 2
}
