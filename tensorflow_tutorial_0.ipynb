{
 "cells": [
  {
   "cell_type": "markdown",
   "metadata": {},
   "source": [
    "# Train and visualize a model in Tensorflow - Part 0: Configuration\n",
    "\n",
    "This notebook explains how to install all the preriquistes and libraries that you will need to run the following tutorials. If you can execute all the following cells, you are good to go.\n",
    "\n",
    "## Environment configuration\n",
    "\n",
    "There are two major package managers in Python: `pip` and `conda`. For this tutorial we will be using conda which, besides being a package manager is also useful as a version manager. There are two main ways to install conda: [Anaconda](https://conda.io/docs/install/quick.html) and [Miniconda](https://conda.io/miniconda.html).\n",
    "\n",
    "In order to install tensorflow we recommend following the [official documentation](https://www.tensorflow.org/install/install_linux#installing_with_anaconda). In particular, for the conda installation, they advise to use pip instead of conda as the only available Anaconda package for tensorflow is not actively mantained.\n",
    "\n",
    "All the available tensorflow versions (for both Python 2 and 3 and with CPU and GPU support) can be found [in this link](https://www.tensorflow.org/install/install_linux#the_url_of_the_tensorflow_python_package). For this course we will be using: https://storage.googleapis.com/tensorflow/linux/cpu/tensorflow-1.3.0-cp35-cp35m-linux_x86_64.whl\n",
    "\n",
    "The commands to setup the environment are the following\n",
    "\n",
    "```\n",
    "$ wget https://repo.continuum.io/miniconda/Miniconda3-latest-Linux-x86_64.sh\n",
    "$ bash Miniconda3-latest-Linux-x86_64.sh\n",
    "$ conda create --name pydata python=3.5\n",
    "$ source activate pydata\n",
    "(pydata) $ conda install numpy scipy jupyter nb_conda\n",
    "(pydata) $ export tfBinaryURL=https://storage.googleapis.com/tensorflow/linux/cpu/tensorflow-1.4.0-cp35-cp35m-linux_x86_64.whl\n",
    "(pydata) $ pip install $tfBinaryURL\n",
    "(pydata) $ jupyter notebook\n",
    "```\n",
    "\n",
    "In the previous code, replace `$tfBinaryURL` with the version of tensorflow to use.\n",
    "\n",
    "Now you check if tensorflow was succesfully installed."
   ]
  },
  {
   "cell_type": "code",
   "execution_count": 2,
   "metadata": {},
   "outputs": [
    {
     "name": "stdout",
     "output_type": "stream",
     "text": [
      "1.4.0\n"
     ]
    }
   ],
   "source": [
    "import tensorflow as tf\n",
    "print(tf.__version__)"
   ]
  },
  {
   "cell_type": "markdown",
   "metadata": {},
   "source": [
    "## Optional libraries\n",
    "\n",
    "These are some optional libraries to download in order to see some visualizations. They take a while, so if you don't have good Internet connection or no time you can skip them.\n",
    "\n",
    "```\n",
    "(pydata) $ conda install gensim\n",
    "(pydata) $ conda install scikit-learn\n",
    "(pydata) $ conda install seaborn\n",
    "```"
   ]
  },
  {
   "cell_type": "markdown",
   "metadata": {},
   "source": [
    "## Pre-processed dataset\n",
    "\n",
    "The dataset we will use is a pre-processed version of the [20 Newsgroup Corpus](http://qwone.com/~jason/20Newsgroups/) for document classification. [Part 1 of the tutorial](https://github.com/PLN-FaMAF/tensorflowTutorial2017/blob/master/tensorflow_tutorial_1.ipynb) is optional and explains how this dataset is obtained. In any case it is possible to download the dataset directly to use in Tensorflow from part 2 and after of the tutorial.\n",
    "\n",
    "The file is named [newsgroup.npz](https://cs.famaf.unc.edu.ar/~ccardellino/pydata/newsgroup.npz) (`md5: 57d8fe66a6a2b8d3b6d331b499740095`) and is a Numpy's compresses file with: train and test data, train and test target and an array of the labels strings.\n",
    "\n",
    "This tutorial will assume your resources (such as datasets) are stored in a `./resources` directory inside the root where you clone the repository."
   ]
  },
  {
   "cell_type": "markdown",
   "metadata": {},
   "source": [
    "## Tensorboard\n",
    "\n",
    "Tensorboard should be installed with TensorFlow. In order to check if it works, open a console and run\n",
    "\n",
    "```\n",
    "$ which tensorboard\n",
    "```\n",
    "\n",
    "The ouput should be an executable file inside your anaconda environment. Something like `~/miniconda/envs/pydata/bin/tensorboard`"
   ]
  }
 ],
 "metadata": {
  "anaconda-cloud": {},
  "kernelspec": {
   "display_name": "Python [conda env:keras]",
   "language": "python",
   "name": "conda-env-keras-py"
  },
  "language_info": {
   "codemirror_mode": {
    "name": "ipython",
    "version": 3
   },
   "file_extension": ".py",
   "mimetype": "text/x-python",
   "name": "python",
   "nbconvert_exporter": "python",
   "pygments_lexer": "ipython3",
   "version": "3.5.4"
  }
 },
 "nbformat": 4,
 "nbformat_minor": 2
}
