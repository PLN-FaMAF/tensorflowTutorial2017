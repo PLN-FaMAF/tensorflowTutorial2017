{
 "cells": [
  {
   "cell_type": "markdown",
   "metadata": {},
   "source": [
    "# Inspecting the model\n",
    "\n",
    "In this notebook we will present some techniques to log and visualize the model behaviour during training. Neural networks have been widely critized because of the lack of interpretation of their internal parameters.\n",
    "\n",
    "The lack of interpretability leads, among other thigns, to make neural models error prone. While this is true, we still have some tools to try to debug our network and to understand what the model is doing."
   ]
  },
  {
   "cell_type": "code",
   "execution_count": 1,
   "metadata": {
    "collapsed": true
   },
   "outputs": [],
   "source": [
    "import numpy as np\n",
    "import tensorflow as tf"
   ]
  },
  {
   "cell_type": "code",
   "execution_count": 106,
   "metadata": {},
   "outputs": [],
   "source": [
    "# Load the dataset into a numpy keyed structure\n",
    "newsgroups = np.load('./resources/newsgroup.npz')\n",
    "\n",
    "# Define the batch size and the number of labels\n",
    "batch_size = 100\n",
    "num_classes = newsgroups['labels'].shape[0]\n",
    "\n",
    "def dataset_input_fn(dataset):\n",
    "    \"\"\"\n",
    "    Creates an input function using the `numpy_input_fn` method from\n",
    "    tensorflow, based on the dataset we want to use.\n",
    "    \n",
    "    Args:\n",
    "        dataset: String that represents the dataset (should be `train` or `test`)\n",
    "    \n",
    "    Returns:\n",
    "        An `numpy_input_fn` function to feed to an estimator\n",
    "    \"\"\"\n",
    "    assert dataset in ('train', 'test'), \"The selected dataset should be `train` or `test`\"\n",
    "    \n",
    "    return tf.estimator.inputs.numpy_input_fn(\n",
    "        x={'input_data': newsgroups['%s_data' % dataset]},\n",
    "        y=newsgroups['%s_target' % dataset],\n",
    "        batch_size=batch_size,\n",
    "        num_epochs=1 if dataset == 'test' else None,\n",
    "        shuffle=dataset == 'train'\n",
    "    )"
   ]
  },
  {
   "cell_type": "markdown",
   "metadata": {},
   "source": [
    "### The easiest way of logging values\n",
    "\n",
    "If you only need to see some numerical values during training, you can print them in the console (or notebook in this case).\n",
    "\n",
    "To add any operation that is performed inside the training cycle, the `Estimator.train` method provides hooks. Hooks, which are formally instances of subclasses of `SessionRunHook`, will be called after each epoch **TODO check this** to perform the operation you want, depending on the type of hook. In this particulaer case, the `LoggingTensorHook` will print in console the tensors we give as parameters, and we can personalize after how many iterations the print will occur. This will also work for the evaluate and predict methods.\n",
    "\n",
    "To try the logging, just run the above training phase with the model we presented on the previous notebook."
   ]
  },
  {
   "cell_type": "code",
   "execution_count": null,
   "metadata": {
    "collapsed": true
   },
   "outputs": [],
   "source": [
    "# Set up logging for predictions\n",
    "# Log the values in the \"Softmax\" tensor with label \"probabilities\"\n",
    "tensors_to_log = {'probabilities': 'softmax_tensor'}\n",
    "logging_hook = tf.train.LoggingTensorHook(\n",
    "    tensors=tensors_to_log, every_n_iter=50)\n",
    "\n",
    "# Train the model\n",
    "mlp_classifier.train(\n",
    "    input_fn=dataset_input_fn('train'),\n",
    "    steps=2000,\n",
    "    hooks=[logging_hook]\n",
    ")"
   ]
  },
  {
   "cell_type": "markdown",
   "metadata": {},
   "source": [
    "## Tensorboard\n",
    "\n",
    "There is a limit to what we can print and interpret on console. Tensorflow comes with its own (and very complete) visualization tool: Tensorboard. In the rest of this tutorial, we will explain how to use Tensorboard to log scalar values like metrics of performance, histogram values like the activation of the cells in each network layer. In the next notebook we will see how to plot and inspect embeddings to show how the document embeddings relate to each other.\n",
    "\n",
    "Tensorboard is based on operations called summaries which record the tensor variable to log. Unlike the previous example, summaries, as all operations, must be compiled along with the model in order to be included in the execution graph. There is a summary operation for each type of data that we want to log: scalars, tensors (histogram or tensor), audio, images and text.\n",
    "\n",
    "In any tensorflow code where we want to save variables for Tensorboard, we have to add some code with the following structure:\n",
    "\n",
    "```\n",
    "    # The definition of your variables\n",
    "    ...\n",
    "    # The summary operations\n",
    "    tf.summary.histogram('softmax_tensor', probabilities_tensor)\n",
    "    tf.summary.scalar('loss', loss_value)\n",
    "    \n",
    "    # The merge operation\n",
    "    tf.summary.merge_all()\n",
    "    \n",
    "    # The write operation\n",
    "    ...\n",
    "```\n",
    "\n",
    "The `summary.histogram` and `summary.scalar` will evaluate the value of the variable at that point during the execution of the graph. Then, the `summary.merge_all` takes all the summary operations added up to that moment and creates a single output with all the information, so the result can be written to disk only once.\n",
    "\n",
    "Now, for older versions of tensorflow or if you are not using Estimators, the write operation uses the `summary.FileWriter` class to write your data. On the other hand, the Estimator wraps this task into a special Hook for summary operations called `SummarySaverHook`.\n",
    "\n",
    "In the following cell we have the same model structure as before (with less comments) and we add the summary operations to the graph, and finally the summary hook."
   ]
  },
  {
   "cell_type": "code",
   "execution_count": 131,
   "metadata": {
    "collapsed": true
   },
   "outputs": [],
   "source": [
    "def build_model(input_data, mode):\n",
    "    \"\"\"Creates the model layers.\n",
    "    \n",
    "    Args:\n",
    "        input_data: a Tensor with shape [batch_size, feature_size]\n",
    "    \n",
    "    Returns:\n",
    "        The logits of the output layer.\"\"\"\n",
    "    hidden1 = tf.layers.dense(inputs=input_data, units=250, activation=tf.nn.relu,\n",
    "                              name='hidden_layer_1')\n",
    "    hidden2 = tf.layers.dense(inputs=hidden1, units=100, activation=tf.nn.relu,\n",
    "                              name='hidden_layer_2')\n",
    "    dropout = tf.layers.dropout(inputs=hidden2, rate=0.4,\n",
    "                                training=(mode == tf.estimator.ModeKeys.TRAIN))\n",
    "    logits = tf.layers.dense(inputs=dropout, units=num_classes, name='logits')\n",
    "\n",
    "    return (logits)\n",
    "\n",
    "def mlp_model_fn(features, labels, mode):\n",
    "    \"\"\"Model function for MLP.\n",
    "    \n",
    "    Args:\n",
    "        features: a dictionary where the values are input tensors with shape\n",
    "            [batch_size, feature_size]\n",
    "        labels: a tensor with shape [batch_size]\n",
    "        mode: a constant, one of `tf.estimator.ModeKeys.`\n",
    "    \n",
    "    Returns:\n",
    "        An instance of ´tf.estimator.EstimatorSpec´.\n",
    "    \"\"\"\n",
    "    logits = build_model(features['input_data'], mode)\n",
    "\n",
    "    predictions = {\n",
    "        'classes': tf.argmax(input=logits, axis=1),\n",
    "        'probabilities': tf.nn.softmax(logits, name='softmax_tensor')\n",
    "    }\n",
    "    \n",
    "    if mode == tf.estimator.ModeKeys.PREDICT:\n",
    "        return tf.estimator.EstimatorSpec(mode=mode, predictions=predictions)\n",
    "\n",
    "    onehot_labels = tf.one_hot(indices=tf.cast(labels, tf.int32), depth=num_classes)\n",
    "    loss = tf.losses.softmax_cross_entropy(\n",
    "      onehot_labels=onehot_labels, logits=logits)\n",
    "\n",
    "    accuracy_op = tf.metrics.accuracy(labels=labels, predictions=predictions['classes'], name='accuracy')\n",
    "    # Add the summary operation to log the tensor with the predictions\n",
    "    tf.summary.histogram('softmax_tensor', predictions['probabilities'])\n",
    "    # Add the summary operation to log the value of the accuracy\n",
    "    tf.summary.scalar('accuracy', accuracy_op[1])\n",
    "    summary_op = tf.summary.merge_all()\n",
    "    summary_hook = tf.train.SummarySaverHook(save_steps=100, summary_op=summary_op)\n",
    "\n",
    "    if mode == tf.estimator.ModeKeys.TRAIN:\n",
    "        \n",
    "        optimizer = tf.train.AdamOptimizer(learning_rate=0.01)\n",
    "        train_op = optimizer.minimize(loss=loss,\n",
    "                                      global_step=tf.train.get_global_step())\n",
    "        return tf.estimator.EstimatorSpec(mode=mode, loss=loss, train_op=train_op,\n",
    "                                          training_hooks=[summary_hook])\n",
    "\n",
    "    eval_metric_ops = {'accuracy': accuracy_op}\n",
    "    return tf.estimator.EstimatorSpec(mode=mode, loss=loss, eval_metric_ops=eval_metric_ops,\n",
    "                                      evaluation_hooks=[summary_hook])"
   ]
  },
  {
   "cell_type": "markdown",
   "metadata": {},
   "source": [
    "Now we can create the Estimator as before with the summary operations compiled into the graph. Note that, as we have a different graph, we have to use a new model_dir or it would fail when loading the previous checkpoint."
   ]
  },
  {
   "cell_type": "code",
   "execution_count": 124,
   "metadata": {},
   "outputs": [
    {
     "name": "stdout",
     "output_type": "stream",
     "text": [
      "INFO:tensorflow:Using default config.\n",
      "INFO:tensorflow:Using config: {'_master': '', '_log_step_count_steps': 100, '_num_ps_replicas': 0, '_tf_random_seed': None, '_service': None, '_save_checkpoints_secs': 600, '_save_checkpoints_steps': None, '_task_id': 0, '_session_config': None, '_save_summary_steps': 100, '_keep_checkpoint_max': 5, '_keep_checkpoint_every_n_hours': 10000, '_task_type': 'worker', '_cluster_spec': <tensorflow.python.training.server_lib.ClusterSpec object at 0x7fcc10669550>, '_model_dir': '20news_mlp_model_summaries', '_is_chief': True, '_num_worker_replicas': 1}\n"
     ]
    }
   ],
   "source": [
    "mlp_classifier = tf.estimator.Estimator(\n",
    "    model_fn=mlp_model_fn, model_dir='20news_mlp_model_summaries')"
   ]
  },
  {
   "cell_type": "code",
   "execution_count": 125,
   "metadata": {
    "scrolled": true
   },
   "outputs": [
    {
     "name": "stdout",
     "output_type": "stream",
     "text": [
      "INFO:tensorflow:Create CheckpointSaverHook.\n",
      "INFO:tensorflow:Saving checkpoints for 1 into 20news_mlp_model_summaries/model.ckpt.\n",
      "INFO:tensorflow:loss = 3.02155637741, step = 1\n",
      "INFO:tensorflow:global_step/sec: 225.826\n",
      "INFO:tensorflow:loss = 1.49042844772, step = 101 (0.444 sec)\n",
      "INFO:tensorflow:global_step/sec: 252.165\n",
      "INFO:tensorflow:loss = 0.842517077923, step = 201 (0.397 sec)\n",
      "INFO:tensorflow:global_step/sec: 256.659\n",
      "INFO:tensorflow:loss = 1.1786583662, step = 301 (0.390 sec)\n",
      "INFO:tensorflow:global_step/sec: 245.672\n",
      "INFO:tensorflow:loss = 1.20692622662, step = 401 (0.407 sec)\n",
      "INFO:tensorflow:global_step/sec: 247.319\n",
      "INFO:tensorflow:loss = 0.765724778175, step = 501 (0.404 sec)\n",
      "INFO:tensorflow:global_step/sec: 253.92\n",
      "INFO:tensorflow:loss = 0.696938157082, step = 601 (0.394 sec)\n",
      "INFO:tensorflow:global_step/sec: 244.71\n",
      "INFO:tensorflow:loss = 0.848085165024, step = 701 (0.409 sec)\n",
      "INFO:tensorflow:global_step/sec: 242.592\n",
      "INFO:tensorflow:loss = 0.772474586964, step = 801 (0.412 sec)\n",
      "INFO:tensorflow:global_step/sec: 254.185\n",
      "INFO:tensorflow:loss = 0.630262851715, step = 901 (0.393 sec)\n",
      "INFO:tensorflow:global_step/sec: 245.056\n",
      "INFO:tensorflow:loss = 0.805317699909, step = 1001 (0.408 sec)\n",
      "INFO:tensorflow:global_step/sec: 252.381\n",
      "INFO:tensorflow:loss = 0.704249858856, step = 1101 (0.396 sec)\n",
      "INFO:tensorflow:global_step/sec: 242.949\n",
      "INFO:tensorflow:loss = 0.607031881809, step = 1201 (0.412 sec)\n",
      "INFO:tensorflow:global_step/sec: 248.885\n",
      "INFO:tensorflow:loss = 0.762341618538, step = 1301 (0.402 sec)\n",
      "INFO:tensorflow:global_step/sec: 250.327\n",
      "INFO:tensorflow:loss = 0.729718565941, step = 1401 (0.399 sec)\n",
      "INFO:tensorflow:global_step/sec: 249.547\n",
      "INFO:tensorflow:loss = 0.500946342945, step = 1501 (0.401 sec)\n",
      "INFO:tensorflow:global_step/sec: 258.317\n",
      "INFO:tensorflow:loss = 0.475259274244, step = 1601 (0.387 sec)\n",
      "INFO:tensorflow:global_step/sec: 244.953\n",
      "INFO:tensorflow:loss = 0.772026658058, step = 1701 (0.408 sec)\n",
      "INFO:tensorflow:global_step/sec: 251.05\n",
      "INFO:tensorflow:loss = 0.561579942703, step = 1801 (0.398 sec)\n",
      "INFO:tensorflow:global_step/sec: 242.031\n",
      "INFO:tensorflow:loss = 0.469052970409, step = 1901 (0.413 sec)\n",
      "INFO:tensorflow:Saving checkpoints for 2000 into 20news_mlp_model_summaries/model.ckpt.\n",
      "INFO:tensorflow:Loss for final step: 0.625677108765.\n"
     ]
    },
    {
     "data": {
      "text/plain": [
       "<tensorflow.python.estimator.estimator.Estimator at 0x7fcc106699e8>"
      ]
     },
     "execution_count": 125,
     "metadata": {},
     "output_type": "execute_result"
    }
   ],
   "source": [
    "mlp_classifier.train(input_fn=dataset_input_fn('train'), steps=2000)"
   ]
  },
  {
   "cell_type": "code",
   "execution_count": 126,
   "metadata": {},
   "outputs": [
    {
     "name": "stdout",
     "output_type": "stream",
     "text": [
      "INFO:tensorflow:Starting evaluation at 2017-11-14-18:25:17\n",
      "INFO:tensorflow:Restoring parameters from 20news_mlp_model_summaries/model.ckpt-2000\n",
      "INFO:tensorflow:Finished evaluation at 2017-11-14-18:25:17\n",
      "INFO:tensorflow:Saving dict for global step 2000: accuracy = 0.742698, global_step = 2000, loss = 0.948799\n"
     ]
    },
    {
     "data": {
      "text/plain": [
       "{'accuracy': 0.74269783, 'global_step': 2000, 'loss': 0.94879884}"
      ]
     },
     "execution_count": 126,
     "metadata": {},
     "output_type": "execute_result"
    }
   ],
   "source": [
    "mlp_classifier.evaluate(input_fn=dataset_input_fn('test'))"
   ]
  },
  {
   "cell_type": "markdown",
   "metadata": {
    "collapsed": true
   },
   "source": [
    "The next thing to do is to go to the Tensorboard dashboard in the model directory and inspect the obtained values."
   ]
  },
  {
   "cell_type": "markdown",
   "metadata": {},
   "source": [
    "## Multiple iterations\n",
    "\n",
    "If we run the same experiment as before several times, the model will be restored from the last checkpoint and the training will recommence using the current weights and biases. Even more, if you don't use Estimators the results of different runs are stored in the same folder and coexists in a mess of metric values.\n",
    "\n",
    "We actually want to compare several runs of the same experiment, or perhaps compare the performance of several classifiers in the same graph. For that, we will change the structure of the directories and Tensorboard will organize and show the results accordingly. We will use an experiment counter to keep track of how many iterations we have done."
   ]
  },
  {
   "cell_type": "code",
   "execution_count": 129,
   "metadata": {
    "collapsed": true
   },
   "outputs": [],
   "source": [
    "EXPERIMENT_COUNTER = 0"
   ]
  },
  {
   "cell_type": "code",
   "execution_count": 133,
   "metadata": {
    "scrolled": true
   },
   "outputs": [
    {
     "name": "stdout",
     "output_type": "stream",
     "text": [
      "INFO:tensorflow:Using default config.\n",
      "INFO:tensorflow:Using config: {'_master': '', '_log_step_count_steps': 100, '_num_ps_replicas': 0, '_tf_random_seed': None, '_service': None, '_save_checkpoints_secs': 600, '_save_checkpoints_steps': None, '_task_id': 0, '_session_config': None, '_save_summary_steps': 100, '_keep_checkpoint_max': 5, '_keep_checkpoint_every_n_hours': 10000, '_task_type': 'worker', '_cluster_spec': <tensorflow.python.training.server_lib.ClusterSpec object at 0x7fcc18369828>, '_model_dir': '20news_mlp_model_summaries/iter2', '_is_chief': True, '_num_worker_replicas': 1}\n",
      "INFO:tensorflow:Create CheckpointSaverHook.\n",
      "INFO:tensorflow:Saving checkpoints for 1 into 20news_mlp_model_summaries/iter2/model.ckpt.\n",
      "INFO:tensorflow:loss = 3.1666135788, step = 1\n",
      "INFO:tensorflow:global_step/sec: 219.791\n",
      "INFO:tensorflow:loss = 1.21929335594, step = 101 (0.456 sec)\n",
      "INFO:tensorflow:global_step/sec: 233.729\n",
      "INFO:tensorflow:loss = 1.10630130768, step = 201 (0.428 sec)\n",
      "INFO:tensorflow:global_step/sec: 240.549\n",
      "INFO:tensorflow:loss = 1.0030708313, step = 301 (0.416 sec)\n",
      "INFO:tensorflow:global_step/sec: 249.783\n",
      "INFO:tensorflow:loss = 0.914413928986, step = 401 (0.400 sec)\n",
      "INFO:tensorflow:global_step/sec: 241.772\n",
      "INFO:tensorflow:loss = 0.997739434242, step = 501 (0.414 sec)\n",
      "INFO:tensorflow:global_step/sec: 250.256\n",
      "INFO:tensorflow:loss = 0.633103191853, step = 601 (0.400 sec)\n",
      "INFO:tensorflow:global_step/sec: 249.042\n",
      "INFO:tensorflow:loss = 1.02723097801, step = 701 (0.401 sec)\n",
      "INFO:tensorflow:global_step/sec: 241.75\n",
      "INFO:tensorflow:loss = 0.981454670429, step = 801 (0.414 sec)\n",
      "INFO:tensorflow:global_step/sec: 257.087\n",
      "INFO:tensorflow:loss = 0.747667551041, step = 901 (0.389 sec)\n",
      "INFO:tensorflow:global_step/sec: 244.815\n",
      "INFO:tensorflow:loss = 0.600253224373, step = 1001 (0.409 sec)\n",
      "INFO:tensorflow:global_step/sec: 254.928\n",
      "INFO:tensorflow:loss = 0.884560406208, step = 1101 (0.392 sec)\n",
      "INFO:tensorflow:global_step/sec: 248.768\n",
      "INFO:tensorflow:loss = 0.822305440903, step = 1201 (0.402 sec)\n",
      "INFO:tensorflow:global_step/sec: 247.031\n",
      "INFO:tensorflow:loss = 0.582785367966, step = 1301 (0.405 sec)\n",
      "INFO:tensorflow:global_step/sec: 248.031\n",
      "INFO:tensorflow:loss = 0.949046909809, step = 1401 (0.403 sec)\n",
      "INFO:tensorflow:global_step/sec: 250.084\n",
      "INFO:tensorflow:loss = 0.79330933094, step = 1501 (0.400 sec)\n",
      "INFO:tensorflow:global_step/sec: 257.944\n",
      "INFO:tensorflow:loss = 0.70544141531, step = 1601 (0.388 sec)\n",
      "INFO:tensorflow:global_step/sec: 247.318\n",
      "INFO:tensorflow:loss = 0.623291552067, step = 1701 (0.404 sec)\n",
      "INFO:tensorflow:global_step/sec: 241.301\n",
      "INFO:tensorflow:loss = 0.658315718174, step = 1801 (0.414 sec)\n",
      "INFO:tensorflow:global_step/sec: 241.148\n",
      "INFO:tensorflow:loss = 0.729266822338, step = 1901 (0.415 sec)\n",
      "INFO:tensorflow:Saving checkpoints for 2000 into 20news_mlp_model_summaries/iter2/model.ckpt.\n",
      "INFO:tensorflow:Loss for final step: 0.684152424335.\n"
     ]
    }
   ],
   "source": [
    "import os\n",
    "\n",
    "mlp_classifier = tf.estimator.Estimator(\n",
    "    model_fn=mlp_model_fn,\n",
    "    model_dir=os.path.join('20news_mlp_model_summaries', 'iter{}'.format(EXPERIMENT_COUNTER)))\n",
    "mlp_classifier.train(input_fn=dataset_input_fn('train'), steps=2000)\n",
    "EXPERIMENT_COUNTER += 1"
   ]
  },
  {
   "cell_type": "markdown",
   "metadata": {},
   "source": [
    "## Contrib: Monitoring performance while training\n",
    "\n",
    "We know so far how to visualize the metrics related to training, but it is more interesting to compare the performance of the classifier in the validation dataset. Furthermore, we would like to stop the training if the validation performance drops too much.\n",
    "\n",
    "In the contrib.learn module of tensorflow we found an `Experiment` class that will run the train and evaluation cycle for us. Even if this not hard to implement using a for loop, we recommend to use the functions provided by tensorflow as they support training on multiple servers."
   ]
  },
  {
   "cell_type": "code",
   "execution_count": 128,
   "metadata": {},
   "outputs": [
    {
     "name": "stdout",
     "output_type": "stream",
     "text": [
      "INFO:tensorflow:Using default config.\n",
      "INFO:tensorflow:Using config: {'_master': '', '_log_step_count_steps': 100, '_num_ps_replicas': 0, '_tf_random_seed': None, '_service': None, '_save_checkpoints_secs': 600, '_save_checkpoints_steps': None, '_task_id': 0, '_session_config': None, '_save_summary_steps': 100, '_keep_checkpoint_max': 5, '_keep_checkpoint_every_n_hours': 10000, '_task_type': 'worker', '_cluster_spec': <tensorflow.python.training.server_lib.ClusterSpec object at 0x7fcbe8c527f0>, '_model_dir': '20news_mlp_model_summaries/iter22', '_is_chief': True, '_num_worker_replicas': 1}\n",
      "WARNING:tensorflow:Experiment.continuous_train_and_eval (from tensorflow.contrib.learn.python.learn.experiment) is experimental and may change or be removed at any time, and without warning.\n",
      "INFO:tensorflow:Training model for 100 steps\n",
      "INFO:tensorflow:Create CheckpointSaverHook.\n",
      "INFO:tensorflow:Saving checkpoints for 1 into 20news_mlp_model_summaries/iter22/model.ckpt.\n",
      "INFO:tensorflow:loss = 3.02090978622, step = 1\n",
      "INFO:tensorflow:Saving checkpoints for 100 into 20news_mlp_model_summaries/iter22/model.ckpt.\n",
      "INFO:tensorflow:Loss for final step: 2.65106534958.\n",
      "INFO:tensorflow:Evaluating model now.\n",
      "INFO:tensorflow:Starting evaluation at 2017-11-14-18:36:52\n",
      "INFO:tensorflow:Restoring parameters from 20news_mlp_model_summaries/iter22/model.ckpt-100\n",
      "INFO:tensorflow:Evaluation [1/100]\n",
      "INFO:tensorflow:Evaluation [2/100]\n",
      "INFO:tensorflow:Finished evaluation at 2017-11-14-18:36:52\n",
      "INFO:tensorflow:Saving dict for global step 100: accuracy = 0.12, global_step = 100, loss = 2.75781\n",
      "INFO:tensorflow:Training model for 100 steps\n",
      "INFO:tensorflow:Create CheckpointSaverHook.\n",
      "INFO:tensorflow:Restoring parameters from 20news_mlp_model_summaries/iter22/model.ckpt-100\n",
      "INFO:tensorflow:Saving checkpoints for 101 into 20news_mlp_model_summaries/iter22/model.ckpt.\n",
      "INFO:tensorflow:loss = 2.53954172134, step = 101\n",
      "INFO:tensorflow:Saving checkpoints for 200 into 20news_mlp_model_summaries/iter22/model.ckpt.\n",
      "INFO:tensorflow:Loss for final step: 2.71322178841.\n",
      "INFO:tensorflow:Evaluating model now.\n",
      "INFO:tensorflow:Starting evaluation at 2017-11-14-18:36:54\n",
      "INFO:tensorflow:Restoring parameters from 20news_mlp_model_summaries/iter22/model.ckpt-200\n",
      "INFO:tensorflow:Evaluation [1/100]\n",
      "INFO:tensorflow:Evaluation [2/100]\n",
      "INFO:tensorflow:Finished evaluation at 2017-11-14-18:36:54\n",
      "INFO:tensorflow:Saving dict for global step 200: accuracy = 0.21, global_step = 200, loss = 2.48426\n",
      "INFO:tensorflow:Training model for 100 steps\n",
      "INFO:tensorflow:Create CheckpointSaverHook.\n",
      "INFO:tensorflow:Restoring parameters from 20news_mlp_model_summaries/iter22/model.ckpt-200\n",
      "INFO:tensorflow:Saving checkpoints for 201 into 20news_mlp_model_summaries/iter22/model.ckpt.\n",
      "INFO:tensorflow:loss = 2.68432331085, step = 201\n",
      "INFO:tensorflow:Saving checkpoints for 300 into 20news_mlp_model_summaries/iter22/model.ckpt.\n",
      "INFO:tensorflow:Loss for final step: 2.5110771656.\n",
      "INFO:tensorflow:Evaluating model now.\n",
      "INFO:tensorflow:Starting evaluation at 2017-11-14-18:36:56\n",
      "INFO:tensorflow:Restoring parameters from 20news_mlp_model_summaries/iter22/model.ckpt-300\n",
      "INFO:tensorflow:Evaluation [1/100]\n",
      "INFO:tensorflow:Evaluation [2/100]\n",
      "INFO:tensorflow:Finished evaluation at 2017-11-14-18:36:56\n",
      "INFO:tensorflow:Saving dict for global step 300: accuracy = 0.25, global_step = 300, loss = 2.24352\n",
      "INFO:tensorflow:Training model for 100 steps\n",
      "INFO:tensorflow:Create CheckpointSaverHook.\n",
      "INFO:tensorflow:Restoring parameters from 20news_mlp_model_summaries/iter22/model.ckpt-300\n",
      "INFO:tensorflow:Saving checkpoints for 301 into 20news_mlp_model_summaries/iter22/model.ckpt.\n",
      "INFO:tensorflow:loss = 2.30315804482, step = 301\n",
      "INFO:tensorflow:Saving checkpoints for 400 into 20news_mlp_model_summaries/iter22/model.ckpt.\n",
      "INFO:tensorflow:Loss for final step: 2.30880522728.\n",
      "INFO:tensorflow:Evaluating model now.\n",
      "INFO:tensorflow:Starting evaluation at 2017-11-14-18:36:57\n",
      "INFO:tensorflow:Restoring parameters from 20news_mlp_model_summaries/iter22/model.ckpt-400\n",
      "INFO:tensorflow:Evaluation [1/100]\n",
      "INFO:tensorflow:Evaluation [2/100]\n",
      "INFO:tensorflow:Finished evaluation at 2017-11-14-18:36:58\n",
      "INFO:tensorflow:Saving dict for global step 400: accuracy = 0.355, global_step = 400, loss = 1.99092\n",
      "INFO:tensorflow:Training model for 100 steps\n",
      "INFO:tensorflow:Create CheckpointSaverHook.\n",
      "INFO:tensorflow:Restoring parameters from 20news_mlp_model_summaries/iter22/model.ckpt-400\n",
      "INFO:tensorflow:Saving checkpoints for 401 into 20news_mlp_model_summaries/iter22/model.ckpt.\n",
      "INFO:tensorflow:loss = 2.16267347336, step = 401\n",
      "INFO:tensorflow:Saving checkpoints for 500 into 20news_mlp_model_summaries/iter22/model.ckpt.\n",
      "INFO:tensorflow:Loss for final step: 2.35965585709.\n",
      "INFO:tensorflow:Evaluating model now.\n",
      "INFO:tensorflow:Starting evaluation at 2017-11-14-18:36:59\n",
      "INFO:tensorflow:Restoring parameters from 20news_mlp_model_summaries/iter22/model.ckpt-500\n",
      "INFO:tensorflow:Evaluation [1/100]\n",
      "INFO:tensorflow:Evaluation [2/100]\n",
      "INFO:tensorflow:Finished evaluation at 2017-11-14-18:36:59\n",
      "INFO:tensorflow:Saving dict for global step 500: accuracy = 0.355, global_step = 500, loss = 1.8427\n",
      "INFO:tensorflow:Training model for 100 steps\n",
      "INFO:tensorflow:Create CheckpointSaverHook.\n",
      "INFO:tensorflow:Restoring parameters from 20news_mlp_model_summaries/iter22/model.ckpt-500\n",
      "INFO:tensorflow:Saving checkpoints for 501 into 20news_mlp_model_summaries/iter22/model.ckpt.\n",
      "INFO:tensorflow:loss = 1.80972254276, step = 501\n",
      "INFO:tensorflow:Saving checkpoints for 600 into 20news_mlp_model_summaries/iter22/model.ckpt.\n",
      "INFO:tensorflow:Loss for final step: 1.74861216545.\n",
      "INFO:tensorflow:Evaluating model now.\n",
      "INFO:tensorflow:Starting evaluation at 2017-11-14-18:37:01\n",
      "INFO:tensorflow:Restoring parameters from 20news_mlp_model_summaries/iter22/model.ckpt-600\n",
      "INFO:tensorflow:Evaluation [1/100]\n",
      "INFO:tensorflow:Evaluation [2/100]\n",
      "INFO:tensorflow:Finished evaluation at 2017-11-14-18:37:01\n",
      "INFO:tensorflow:Saving dict for global step 600: accuracy = 0.455, global_step = 600, loss = 1.5961\n",
      "INFO:tensorflow:Training model for 100 steps\n",
      "INFO:tensorflow:Create CheckpointSaverHook.\n",
      "INFO:tensorflow:Restoring parameters from 20news_mlp_model_summaries/iter22/model.ckpt-600\n",
      "INFO:tensorflow:Saving checkpoints for 601 into 20news_mlp_model_summaries/iter22/model.ckpt.\n",
      "INFO:tensorflow:loss = 1.66271948814, step = 601\n",
      "INFO:tensorflow:Saving checkpoints for 700 into 20news_mlp_model_summaries/iter22/model.ckpt.\n",
      "INFO:tensorflow:Loss for final step: 1.8004295826.\n",
      "INFO:tensorflow:Evaluating model now.\n",
      "INFO:tensorflow:Starting evaluation at 2017-11-14-18:37:02\n",
      "INFO:tensorflow:Restoring parameters from 20news_mlp_model_summaries/iter22/model.ckpt-700\n",
      "INFO:tensorflow:Evaluation [1/100]\n",
      "INFO:tensorflow:Evaluation [2/100]\n",
      "INFO:tensorflow:Finished evaluation at 2017-11-14-18:37:03\n",
      "INFO:tensorflow:Saving dict for global step 700: accuracy = 0.53, global_step = 700, loss = 1.43803\n",
      "INFO:tensorflow:Training model for 100 steps\n",
      "INFO:tensorflow:Create CheckpointSaverHook.\n",
      "INFO:tensorflow:Restoring parameters from 20news_mlp_model_summaries/iter22/model.ckpt-700\n",
      "INFO:tensorflow:Saving checkpoints for 701 into 20news_mlp_model_summaries/iter22/model.ckpt.\n",
      "INFO:tensorflow:loss = 1.84066140652, step = 701\n",
      "INFO:tensorflow:Saving checkpoints for 800 into 20news_mlp_model_summaries/iter22/model.ckpt.\n",
      "INFO:tensorflow:Loss for final step: 1.53957271576.\n",
      "INFO:tensorflow:Evaluating model now.\n",
      "INFO:tensorflow:Starting evaluation at 2017-11-14-18:37:04\n",
      "INFO:tensorflow:Restoring parameters from 20news_mlp_model_summaries/iter22/model.ckpt-800\n",
      "INFO:tensorflow:Evaluation [1/100]\n",
      "INFO:tensorflow:Evaluation [2/100]\n",
      "INFO:tensorflow:Finished evaluation at 2017-11-14-18:37:04\n",
      "INFO:tensorflow:Saving dict for global step 800: accuracy = 0.59, global_step = 800, loss = 1.27225\n",
      "INFO:tensorflow:Training model for 100 steps\n",
      "INFO:tensorflow:Create CheckpointSaverHook.\n",
      "INFO:tensorflow:Restoring parameters from 20news_mlp_model_summaries/iter22/model.ckpt-800\n",
      "INFO:tensorflow:Saving checkpoints for 801 into 20news_mlp_model_summaries/iter22/model.ckpt.\n",
      "INFO:tensorflow:loss = 1.61695230007, step = 801\n",
      "INFO:tensorflow:Saving checkpoints for 900 into 20news_mlp_model_summaries/iter22/model.ckpt.\n"
     ]
    },
    {
     "name": "stdout",
     "output_type": "stream",
     "text": [
      "INFO:tensorflow:Loss for final step: 1.46542322636.\n",
      "INFO:tensorflow:Evaluating model now.\n",
      "INFO:tensorflow:Starting evaluation at 2017-11-14-18:37:06\n",
      "INFO:tensorflow:Restoring parameters from 20news_mlp_model_summaries/iter22/model.ckpt-900\n",
      "INFO:tensorflow:Evaluation [1/100]\n",
      "INFO:tensorflow:Evaluation [2/100]\n",
      "INFO:tensorflow:Finished evaluation at 2017-11-14-18:37:06\n",
      "INFO:tensorflow:Saving dict for global step 900: accuracy = 0.655, global_step = 900, loss = 1.10596\n",
      "INFO:tensorflow:Training model for 100 steps\n",
      "INFO:tensorflow:Create CheckpointSaverHook.\n",
      "INFO:tensorflow:Restoring parameters from 20news_mlp_model_summaries/iter22/model.ckpt-900\n",
      "INFO:tensorflow:Saving checkpoints for 901 into 20news_mlp_model_summaries/iter22/model.ckpt.\n",
      "INFO:tensorflow:loss = 1.77530324459, step = 901\n",
      "INFO:tensorflow:Saving checkpoints for 1000 into 20news_mlp_model_summaries/iter22/model.ckpt.\n",
      "INFO:tensorflow:Loss for final step: 1.323315382.\n",
      "INFO:tensorflow:Evaluating model now.\n",
      "INFO:tensorflow:Starting evaluation at 2017-11-14-18:37:07\n",
      "INFO:tensorflow:Restoring parameters from 20news_mlp_model_summaries/iter22/model.ckpt-1000\n",
      "INFO:tensorflow:Evaluation [1/100]\n",
      "INFO:tensorflow:Evaluation [2/100]\n",
      "INFO:tensorflow:Finished evaluation at 2017-11-14-18:37:07\n",
      "INFO:tensorflow:Saving dict for global step 1000: accuracy = 0.705, global_step = 1000, loss = 0.985392\n",
      "INFO:tensorflow:Stop training model as max steps reached\n"
     ]
    }
   ],
   "source": [
    "mlp_classifier = tf.estimator.Estimator(\n",
    "    model_fn=mlp_model_fn,\n",
    "    model_dir=os.path.join('20news_mlp_model_summaries', 'iter{}'.format(EXPERIMENT_COUNTER)))\n",
    "\n",
    "experiment = tf.contrib.learn.Experiment(\n",
    "    mlp_classifier,\n",
    "    train_input_fn=train_input_fn,\n",
    "    eval_input_fn=eval_input_fn,\n",
    "    train_steps=1000,\n",
    "    train_steps_per_iteration=100\n",
    "    )\n",
    "experiment.continuous_train_and_eval()\n",
    "\n",
    "EXPERIMENT_COUNTER += 1"
   ]
  },
  {
   "cell_type": "markdown",
   "metadata": {},
   "source": [
    "# Activity\n",
    "\n",
    " 1. Use Tensoboard to visualize, the precision and recall of several runs and several models in the same graph.\n",
    " 2. Create an early stop training cycle using the `contrib.learn.Experiment` class or the `tf.estimator.train_and_evaluate` function. This cycle must train the model until the performance on the test dataset drops."
   ]
  },
  {
   "cell_type": "code",
   "execution_count": null,
   "metadata": {
    "collapsed": true
   },
   "outputs": [],
   "source": []
  }
 ],
 "metadata": {
  "kernelspec": {
   "display_name": "Python [conda env:keras]",
   "language": "python",
   "name": "conda-env-keras-py"
  },
  "language_info": {
   "codemirror_mode": {
    "name": "ipython",
    "version": 3
   },
   "file_extension": ".py",
   "mimetype": "text/x-python",
   "name": "python",
   "nbconvert_exporter": "python",
   "pygments_lexer": "ipython3",
   "version": "3.5.4"
  }
 },
 "nbformat": 4,
 "nbformat_minor": 2
}
